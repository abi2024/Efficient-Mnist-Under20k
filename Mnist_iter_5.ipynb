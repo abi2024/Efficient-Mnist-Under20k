{
 "cells": [
  {
   "cell_type": "markdown",
   "metadata": {},
   "source": [
    "# MNIST Classification - Iteration 5\n",
    "## Conservative Channel Reduction Architecture\n",
    "\n",
    "### Goals:\n",
    "- Achieve 99.4% accuracy on MNIST test dataset\n",
    "- Use less than 20,000 parameters\n",
    "\n",
    "### Key Changes from Iteration 4:\n",
    "- Reduced channel progression: 1→16→20→28→36→48 (was 1→16→20→32→48→64)\n",
    "- Target: ~19,798 parameters\n",
    "- Maintain same dropout and normalization strategies that worked well"
   ]
  },
  {
   "cell_type": "code",
   "execution_count": 14,
   "metadata": {},
   "outputs": [],
   "source": [
    "import torch\n",
    "import torch.nn as nn\n",
    "import torch.nn.functional as F\n",
    "import torch.optim as optim\n",
    "from torchvision import datasets, transforms\n",
    "from torch.optim.lr_scheduler import OneCycleLR\n",
    "from tqdm import tqdm\n",
    "import matplotlib.pyplot as plt\n",
    "import numpy as np\n",
    "\n",
    "# Set random seed for reproducibility\n",
    "torch.manual_seed(42)\n",
    "if torch.cuda.is_available():\n",
    "    torch.cuda.manual_seed(42)"
   ]
  },
  {
   "cell_type": "markdown",
   "metadata": {},
   "source": [
    "## Model Architecture"
   ]
  },
  {
   "cell_type": "code",
   "execution_count": 15,
   "metadata": {},
   "outputs": [],
   "source": [
    "class Net(nn.Module):\n",
    "    def __init__(self):\n",
    "        super(Net, self).__init__()\n",
    "        \n",
    "        # Block 1: 28x28 → 13x13\n",
    "        self.conv1 = nn.Conv2d(1, 16, 3, padding=1)   # 28x28x16 (160 params)\n",
    "        self.bn1 = nn.BatchNorm2d(16)                 # (32 params)\n",
    "        self.conv2 = nn.Conv2d(16, 20, 3)             # 26x26x20 (2,900 params)\n",
    "        self.bn2 = nn.BatchNorm2d(20)                 # (40 params)\n",
    "        self.pool1 = nn.MaxPool2d(2, 2)               # 13x13x20\n",
    "        self.dropout1 = nn.Dropout2d(0.05)\n",
    "        \n",
    "        # Block 2: 13x13 → 4x4\n",
    "        self.conv3 = nn.Conv2d(20, 28, 3)             # 11x11x28 (5,068 params)\n",
    "        self.bn3 = nn.BatchNorm2d(28)                 # (56 params)\n",
    "        self.conv4 = nn.Conv2d(28, 36, 3)             # 9x9x36 (9,108 params)\n",
    "        self.bn4 = nn.BatchNorm2d(36)                 # (72 params)\n",
    "        self.pool2 = nn.MaxPool2d(2, 2, padding=1)    # 5x5x36 then crop to 4x4x36\n",
    "        self.dropout2 = nn.Dropout2d(0.10)\n",
    "        \n",
    "        # Block 3: 4x4 → 4x4 (channel expansion with 1x1)\n",
    "        self.conv5 = nn.Conv2d(36, 48, 1)             # 4x4x48 (1,776 params)\n",
    "        self.bn5 = nn.BatchNorm2d(48)                 # (96 params)\n",
    "        \n",
    "        # Output\n",
    "        self.gap = nn.AdaptiveAvgPool2d(1)\n",
    "        self.dropout3 = nn.Dropout(0.15)\n",
    "        self.fc = nn.Linear(48, 10)                   # (490 params)\n",
    "        \n",
    "    def forward(self, x):\n",
    "        # Block 1\n",
    "        x = self.bn1(F.relu(self.conv1(x)))\n",
    "        x = self.bn2(F.relu(self.conv2(x)))\n",
    "        x = self.pool1(x)\n",
    "        x = self.dropout1(x)\n",
    "        \n",
    "        # Block 2\n",
    "        x = self.bn3(F.relu(self.conv3(x)))\n",
    "        x = self.bn4(F.relu(self.conv4(x)))\n",
    "        x = self.pool2(x)[:, :, :4, :4]  # Crop to 4x4\n",
    "        x = self.dropout2(x)\n",
    "        \n",
    "        # Block 3\n",
    "        x = self.bn5(F.relu(self.conv5(x)))\n",
    "        \n",
    "        # Output\n",
    "        x = self.gap(x)\n",
    "        x = x.view(-1, 48)\n",
    "        x = self.dropout3(x)\n",
    "        x = self.fc(x)\n",
    "        return F.log_softmax(x, dim=1)"
   ]
  },
  {
   "cell_type": "markdown",
   "metadata": {},
   "source": [
    "## Model Summary and Parameter Count"
   ]
  },
  {
   "cell_type": "code",
   "execution_count": 16,
   "metadata": {},
   "outputs": [
    {
     "name": "stdout",
     "output_type": "stream",
     "text": [
      "\n",
      "Detailed Parameter Breakdown:\n",
      "==================================================\n",
      "conv1.weight        :      144 params\n",
      "conv1.bias          :       16 params\n",
      "bn1.weight          :       16 params\n",
      "bn1.bias            :       16 params\n",
      "conv2.weight        :    2,880 params\n",
      "conv2.bias          :       20 params\n",
      "bn2.weight          :       20 params\n",
      "bn2.bias            :       20 params\n",
      "conv3.weight        :    5,040 params\n",
      "conv3.bias          :       28 params\n",
      "bn3.weight          :       28 params\n",
      "bn3.bias            :       28 params\n",
      "conv4.weight        :    9,072 params\n",
      "conv4.bias          :       36 params\n",
      "bn4.weight          :       36 params\n",
      "bn4.bias            :       36 params\n",
      "conv5.weight        :    1,728 params\n",
      "conv5.bias          :       48 params\n",
      "bn5.weight          :       48 params\n",
      "bn5.bias            :       48 params\n",
      "fc.weight           :      480 params\n",
      "fc.bias             :       10 params\n",
      "==================================================\n",
      "Total Trainable Parameters: 19,798\n",
      "✅ Under 20,000 parameter limit! (202 params to spare)\n"
     ]
    }
   ],
   "source": [
    "def count_parameters(model):\n",
    "    \"\"\"Count the number of trainable parameters in the model\"\"\"\n",
    "    total_params = sum(p.numel() for p in model.parameters() if p.requires_grad)\n",
    "    \n",
    "    print(\"\\nDetailed Parameter Breakdown:\")\n",
    "    print(\"=\"*50)\n",
    "    for name, param in model.named_parameters():\n",
    "        if param.requires_grad:\n",
    "            print(f\"{name:20s}: {param.numel():8,d} params\")\n",
    "    print(\"=\"*50)\n",
    "    print(f\"Total Trainable Parameters: {total_params:,}\")\n",
    "    \n",
    "    if total_params < 20000:\n",
    "        print(f\"✅ Under 20,000 parameter limit! ({20000-total_params:,} params to spare)\")\n",
    "    else:\n",
    "        print(f\"❌ Over 20,000 parameter limit! (Exceeded by {total_params-20000:,} params)\")\n",
    "    \n",
    "    return total_params\n",
    "\n",
    "# Initialize model and count parameters\n",
    "model = Net()\n",
    "total_params = count_parameters(model)"
   ]
  },
  {
   "cell_type": "markdown",
   "metadata": {},
   "source": [
    "## Data Loading and Augmentation"
   ]
  },
  {
   "cell_type": "code",
   "execution_count": 17,
   "metadata": {},
   "outputs": [
    {
     "name": "stdout",
     "output_type": "stream",
     "text": [
      "Using device: cuda\n"
     ]
    },
    {
     "name": "stderr",
     "output_type": "stream",
     "text": [
      "100%|██████████| 9.91M/9.91M [00:22<00:00, 447kB/s] \n",
      "100%|██████████| 28.9k/28.9k [00:00<00:00, 111kB/s]\n",
      "100%|██████████| 1.65M/1.65M [00:06<00:00, 251kB/s]\n",
      "100%|██████████| 4.54k/4.54k [00:00<?, ?B/s]"
     ]
    },
    {
     "name": "stdout",
     "output_type": "stream",
     "text": [
      "Training samples: 60,000\n",
      "Test samples: 10,000\n",
      "Batch size: 128\n",
      "Train batches: 469\n",
      "Test batches: 79\n"
     ]
    },
    {
     "name": "stderr",
     "output_type": "stream",
     "text": [
      "\n"
     ]
    }
   ],
   "source": [
    "# Check if CUDA is available\n",
    "use_cuda = torch.cuda.is_available()\n",
    "device = torch.device(\"cuda\" if use_cuda else \"cpu\")\n",
    "print(f\"Using device: {device}\")\n",
    "\n",
    "# Data loading parameters\n",
    "batch_size = 128\n",
    "kwargs = {'num_workers': 2, 'pin_memory': True} if use_cuda else {}\n",
    "\n",
    "# FIXED normalization values (using standard MNIST stats for both train and test)\n",
    "MNIST_MEAN = 0.1307\n",
    "MNIST_STD = 0.3081\n",
    "\n",
    "# Data transformations\n",
    "train_transform = transforms.Compose([\n",
    "    transforms.RandomRotation(5),\n",
    "    transforms.RandomAffine(degrees=0, translate=(0.05, 0.05)),\n",
    "    transforms.ToTensor(),\n",
    "    transforms.Normalize((MNIST_MEAN,), (MNIST_STD,))\n",
    "])\n",
    "\n",
    "test_transform = transforms.Compose([\n",
    "    transforms.ToTensor(),\n",
    "    transforms.Normalize((MNIST_MEAN,), (MNIST_STD,))\n",
    "])\n",
    "\n",
    "# Load MNIST dataset\n",
    "train_dataset = datasets.MNIST('./data', train=True, download=True, transform=train_transform)\n",
    "test_dataset = datasets.MNIST('./data', train=False, transform=test_transform)\n",
    "\n",
    "train_loader = torch.utils.data.DataLoader(train_dataset, batch_size=batch_size, shuffle=True, **kwargs)\n",
    "test_loader = torch.utils.data.DataLoader(test_dataset, batch_size=batch_size, shuffle=False, **kwargs)\n",
    "\n",
    "print(f\"Training samples: {len(train_dataset):,}\")\n",
    "print(f\"Test samples: {len(test_dataset):,}\")\n",
    "print(f\"Batch size: {batch_size}\")\n",
    "print(f\"Train batches: {len(train_loader)}\")\n",
    "print(f\"Test batches: {len(test_loader)}\")"
   ]
  },
  {
   "cell_type": "markdown",
   "metadata": {},
   "source": [
    "## Training and Testing Functions"
   ]
  },
  {
   "cell_type": "code",
   "execution_count": 20,
   "metadata": {},
   "outputs": [],
   "source": [
    "def train(model, device, train_loader, optimizer, scheduler, epoch):\n",
    "    model.train()\n",
    "    train_loss = 0\n",
    "    correct = 0\n",
    "    total = 0\n",
    "    \n",
    "    pbar = tqdm(train_loader, desc=f'Epoch {epoch}')\n",
    "    for batch_idx, (data, target) in enumerate(pbar):\n",
    "        data, target = data.to(device), target.to(device)\n",
    "        optimizer.zero_grad()\n",
    "        output = model(data)\n",
    "        loss = F.nll_loss(output, target)\n",
    "        loss.backward()\n",
    "        optimizer.step()\n",
    "        scheduler.step()\n",
    "        \n",
    "        train_loss += loss.item()\n",
    "        pred = output.argmax(dim=1, keepdim=True)\n",
    "        correct += pred.eq(target.view_as(pred)).sum().item()\n",
    "        total += target.size(0)\n",
    "        \n",
    "        # Update progress bar\n",
    "        pbar.set_postfix({\n",
    "            'Loss': f'{loss.item():.4f}',\n",
    "            'Acc': f'{100.*correct/total:.2f}%',\n",
    "            'LR': f'{scheduler.get_last_lr()[0]:.6f}'\n",
    "        })\n",
    "    \n",
    "    avg_loss = train_loss / len(train_loader)\n",
    "    accuracy = 100. * correct / total\n",
    "    return avg_loss, accuracy\n",
    "\n",
    "def test(model, device, test_loader):\n",
    "    model.eval()\n",
    "    test_loss = 0\n",
    "    correct = 0\n",
    "    \n",
    "    with torch.no_grad():\n",
    "        for data, target in test_loader:\n",
    "            data, target = data.to(device), target.to(device)\n",
    "            output = model(data)\n",
    "            test_loss += F.nll_loss(output, target, reduction='sum').item()\n",
    "            pred = output.argmax(dim=1, keepdim=True)\n",
    "            correct += pred.eq(target.view_as(pred)).sum().item()\n",
    "    \n",
    "    test_loss /= len(test_loader.dataset)\n",
    "    accuracy = 100. * correct / len(test_loader.dataset)\n",
    "    \n",
    "    print(f'\\nTest set: Average loss: {test_loss:.4f}, '\n",
    "          f'Accuracy: {correct}/{len(test_loader.dataset)} ({accuracy:.2f}%)\\n')\n",
    "    \n",
    "    return test_loss, accuracy"
   ]
  },
  {
   "cell_type": "markdown",
   "metadata": {},
   "source": [
    "## Training Configuration and Execution"
   ]
  },
  {
   "cell_type": "code",
   "execution_count": 21,
   "metadata": {},
   "outputs": [
    {
     "name": "stdout",
     "output_type": "stream",
     "text": [
      "\n",
      "==================================================\n",
      "Starting Training\n",
      "==================================================\n",
      "Model Parameters: 19,798\n",
      "Target Accuracy: 99.4%\n",
      "Training for 20 epochs\n",
      "==================================================\n",
      "\n"
     ]
    },
    {
     "name": "stderr",
     "output_type": "stream",
     "text": [
      "Epoch 1: 100%|██████████| 469/469 [00:06<00:00, 76.84it/s, Loss=0.1323, Acc=86.88%, LR=0.023194] \n"
     ]
    },
    {
     "name": "stdout",
     "output_type": "stream",
     "text": [
      "\n",
      "Test set: Average loss: 0.0720, Accuracy: 9783/10000 (97.83%)\n",
      "\n",
      "🎯 New best accuracy: 97.83%\n"
     ]
    },
    {
     "name": "stderr",
     "output_type": "stream",
     "text": [
      "Epoch 2: 100%|██████████| 469/469 [00:05<00:00, 81.59it/s, Loss=0.0531, Acc=97.02%, LR=0.055038] \n"
     ]
    },
    {
     "name": "stdout",
     "output_type": "stream",
     "text": [
      "\n",
      "Test set: Average loss: 0.0403, Accuracy: 9875/10000 (98.75%)\n",
      "\n",
      "🎯 New best accuracy: 98.75%\n"
     ]
    },
    {
     "name": "stderr",
     "output_type": "stream",
     "text": [
      "Epoch 3: 100%|██████████| 469/469 [00:05<00:00, 80.88it/s, Loss=0.0324, Acc=97.58%, LR=0.086860] \n"
     ]
    },
    {
     "name": "stdout",
     "output_type": "stream",
     "text": [
      "\n",
      "Test set: Average loss: 0.0331, Accuracy: 9895/10000 (98.95%)\n",
      "\n",
      "🎯 New best accuracy: 98.95%\n"
     ]
    },
    {
     "name": "stderr",
     "output_type": "stream",
     "text": [
      "Epoch 4: 100%|██████████| 469/469 [00:05<00:00, 81.60it/s, Loss=0.1473, Acc=98.15%, LR=0.100000] \n"
     ]
    },
    {
     "name": "stdout",
     "output_type": "stream",
     "text": [
      "\n",
      "Test set: Average loss: 0.0392, Accuracy: 9868/10000 (98.68%)\n",
      "\n"
     ]
    },
    {
     "name": "stderr",
     "output_type": "stream",
     "text": [
      "Epoch 5: 100%|██████████| 469/469 [00:05<00:00, 82.52it/s, Loss=0.0154, Acc=98.42%, LR=0.099036] \n"
     ]
    },
    {
     "name": "stdout",
     "output_type": "stream",
     "text": [
      "\n",
      "Test set: Average loss: 0.0287, Accuracy: 9905/10000 (99.05%)\n",
      "\n",
      "🎯 New best accuracy: 99.05%\n"
     ]
    },
    {
     "name": "stderr",
     "output_type": "stream",
     "text": [
      "Epoch 6: 100%|██████████| 469/469 [00:06<00:00, 77.96it/s, Loss=0.0364, Acc=98.51%, LR=0.096190] \n"
     ]
    },
    {
     "name": "stdout",
     "output_type": "stream",
     "text": [
      "\n",
      "Test set: Average loss: 0.0256, Accuracy: 9910/10000 (99.10%)\n",
      "\n",
      "🎯 New best accuracy: 99.10%\n"
     ]
    },
    {
     "name": "stderr",
     "output_type": "stream",
     "text": [
      "Epoch 7: 100%|██████████| 469/469 [00:05<00:00, 82.29it/s, Loss=0.0227, Acc=98.47%, LR=0.091570] \n"
     ]
    },
    {
     "name": "stdout",
     "output_type": "stream",
     "text": [
      "\n",
      "Test set: Average loss: 0.0255, Accuracy: 9923/10000 (99.23%)\n",
      "\n",
      "🎯 New best accuracy: 99.23%\n"
     ]
    },
    {
     "name": "stderr",
     "output_type": "stream",
     "text": [
      "Epoch 8: 100%|██████████| 469/469 [00:05<00:00, 82.05it/s, Loss=0.0381, Acc=98.60%, LR=0.085355] \n"
     ]
    },
    {
     "name": "stdout",
     "output_type": "stream",
     "text": [
      "\n",
      "Test set: Average loss: 0.0235, Accuracy: 9930/10000 (99.30%)\n",
      "\n",
      "🎯 New best accuracy: 99.30%\n"
     ]
    },
    {
     "name": "stderr",
     "output_type": "stream",
     "text": [
      "Epoch 9: 100%|██████████| 469/469 [00:05<00:00, 81.02it/s, Loss=0.0172, Acc=98.67%, LR=0.077783] \n"
     ]
    },
    {
     "name": "stdout",
     "output_type": "stream",
     "text": [
      "\n",
      "Test set: Average loss: 0.0215, Accuracy: 9924/10000 (99.24%)\n",
      "\n"
     ]
    },
    {
     "name": "stderr",
     "output_type": "stream",
     "text": [
      "Epoch 10: 100%|██████████| 469/469 [00:05<00:00, 81.58it/s, Loss=0.0636, Acc=98.84%, LR=0.069146] \n"
     ]
    },
    {
     "name": "stdout",
     "output_type": "stream",
     "text": [
      "\n",
      "Test set: Average loss: 0.0251, Accuracy: 9912/10000 (99.12%)\n",
      "\n"
     ]
    },
    {
     "name": "stderr",
     "output_type": "stream",
     "text": [
      "Epoch 11: 100%|██████████| 469/469 [00:05<00:00, 81.09it/s, Loss=0.0655, Acc=98.85%, LR=0.059774] \n"
     ]
    },
    {
     "name": "stdout",
     "output_type": "stream",
     "text": [
      "\n",
      "Test set: Average loss: 0.0243, Accuracy: 9925/10000 (99.25%)\n",
      "\n"
     ]
    },
    {
     "name": "stderr",
     "output_type": "stream",
     "text": [
      "Epoch 12: 100%|██████████| 469/469 [00:05<00:00, 80.04it/s, Loss=0.2250, Acc=98.84%, LR=0.050029] \n"
     ]
    },
    {
     "name": "stdout",
     "output_type": "stream",
     "text": [
      "\n",
      "Test set: Average loss: 0.0204, Accuracy: 9935/10000 (99.35%)\n",
      "\n",
      "🎯 New best accuracy: 99.35%\n"
     ]
    },
    {
     "name": "stderr",
     "output_type": "stream",
     "text": [
      "Epoch 13: 100%|██████████| 469/469 [00:05<00:00, 81.41it/s, Loss=0.0219, Acc=98.90%, LR=0.040285] \n"
     ]
    },
    {
     "name": "stdout",
     "output_type": "stream",
     "text": [
      "\n",
      "Test set: Average loss: 0.0199, Accuracy: 9935/10000 (99.35%)\n",
      "\n"
     ]
    },
    {
     "name": "stderr",
     "output_type": "stream",
     "text": [
      "Epoch 14: 100%|██████████| 469/469 [00:05<00:00, 82.19it/s, Loss=0.0547, Acc=99.00%, LR=0.030916] \n"
     ]
    },
    {
     "name": "stdout",
     "output_type": "stream",
     "text": [
      "\n",
      "Test set: Average loss: 0.0202, Accuracy: 9938/10000 (99.38%)\n",
      "\n",
      "🎯 New best accuracy: 99.38%\n"
     ]
    },
    {
     "name": "stderr",
     "output_type": "stream",
     "text": [
      "Epoch 15: 100%|██████████| 469/469 [00:05<00:00, 82.98it/s, Loss=0.0684, Acc=99.05%, LR=0.022282] \n"
     ]
    },
    {
     "name": "stdout",
     "output_type": "stream",
     "text": [
      "\n",
      "Test set: Average loss: 0.0183, Accuracy: 9938/10000 (99.38%)\n",
      "\n"
     ]
    },
    {
     "name": "stderr",
     "output_type": "stream",
     "text": [
      "Epoch 16: 100%|██████████| 469/469 [00:05<00:00, 82.03it/s, Loss=0.0081, Acc=99.17%, LR=0.014715] \n"
     ]
    },
    {
     "name": "stdout",
     "output_type": "stream",
     "text": [
      "\n",
      "Test set: Average loss: 0.0164, Accuracy: 9945/10000 (99.45%)\n",
      "\n",
      "🎯 New best accuracy: 99.45%\n",
      "✅ Target accuracy of 99.4% achieved in epoch 16!\n",
      "Continuing training to see if we can improve further...\n"
     ]
    },
    {
     "name": "stderr",
     "output_type": "stream",
     "text": [
      "Epoch 17: 100%|██████████| 469/469 [00:05<00:00, 83.25it/s, Loss=0.0047, Acc=99.26%, LR=0.008506] \n"
     ]
    },
    {
     "name": "stdout",
     "output_type": "stream",
     "text": [
      "\n",
      "Test set: Average loss: 0.0165, Accuracy: 9940/10000 (99.40%)\n",
      "\n",
      "✅ Target accuracy of 99.4% achieved in epoch 17!\n",
      "Continuing training to see if we can improve further...\n"
     ]
    },
    {
     "name": "stderr",
     "output_type": "stream",
     "text": [
      "Epoch 18: 100%|██████████| 469/469 [00:06<00:00, 78.14it/s, Loss=0.0044, Acc=99.31%, LR=0.003894] \n"
     ]
    },
    {
     "name": "stdout",
     "output_type": "stream",
     "text": [
      "\n",
      "Test set: Average loss: 0.0166, Accuracy: 9940/10000 (99.40%)\n",
      "\n",
      "✅ Target accuracy of 99.4% achieved in epoch 18!\n",
      "Continuing training to see if we can improve further...\n"
     ]
    },
    {
     "name": "stderr",
     "output_type": "stream",
     "text": [
      "Epoch 19: 100%|██████████| 469/469 [00:05<00:00, 81.34it/s, Loss=0.0049, Acc=99.34%, LR=0.001056] \n"
     ]
    },
    {
     "name": "stdout",
     "output_type": "stream",
     "text": [
      "\n",
      "Test set: Average loss: 0.0159, Accuracy: 9943/10000 (99.43%)\n",
      "\n",
      "✅ Target accuracy of 99.4% achieved in epoch 19!\n",
      "Continuing training to see if we can improve further...\n"
     ]
    },
    {
     "name": "stderr",
     "output_type": "stream",
     "text": [
      "Epoch 20: 100%|██████████| 469/469 [00:05<00:00, 79.14it/s, Loss=0.0119, Acc=99.34%, LR=0.000100] \n"
     ]
    },
    {
     "name": "stdout",
     "output_type": "stream",
     "text": [
      "\n",
      "Test set: Average loss: 0.0161, Accuracy: 9941/10000 (99.41%)\n",
      "\n",
      "✅ Target accuracy of 99.4% achieved in epoch 20!\n"
     ]
    }
   ],
   "source": [
    "# Move model to device\n",
    "model = Net().to(device)\n",
    "\n",
    "# Optimizer\n",
    "optimizer = optim.SGD(model.parameters(), lr=0.01, momentum=0.9, weight_decay=1e-4)\n",
    "\n",
    "# Number of epochs\n",
    "num_epochs = 20\n",
    "\n",
    "# OneCycleLR scheduler\n",
    "scheduler = OneCycleLR(\n",
    "    optimizer,\n",
    "    max_lr=0.1,\n",
    "    epochs=num_epochs,\n",
    "    steps_per_epoch=len(train_loader),\n",
    "    pct_start=0.2,\n",
    "    anneal_strategy='cos',\n",
    "    div_factor=10,\n",
    "    final_div_factor=100\n",
    ")\n",
    "\n",
    "# Training history\n",
    "train_losses = []\n",
    "train_accuracies = []\n",
    "test_losses = []\n",
    "test_accuracies = []\n",
    "\n",
    "print(\"\\n\" + \"=\"*50)\n",
    "print(\"Starting Training\")\n",
    "print(\"=\"*50)\n",
    "print(f\"Model Parameters: {total_params:,}\")\n",
    "print(f\"Target Accuracy: 99.4%\")\n",
    "print(f\"Training for {num_epochs} epochs\")\n",
    "print(\"=\"*50 + \"\\n\")\n",
    "\n",
    "# Training loop\n",
    "best_accuracy = 0\n",
    "for epoch in range(1, num_epochs + 1):\n",
    "    train_loss, train_acc = train(model, device, train_loader, optimizer, scheduler, epoch)\n",
    "    test_loss, test_acc = test(model, device, test_loader)\n",
    "    \n",
    "    train_losses.append(train_loss)\n",
    "    train_accuracies.append(train_acc)\n",
    "    test_losses.append(test_loss)\n",
    "    test_accuracies.append(test_acc)\n",
    "    \n",
    "    if test_acc > best_accuracy:\n",
    "        best_accuracy = test_acc\n",
    "        print(f\"🎯 New best accuracy: {best_accuracy:.2f}%\")\n",
    "    \n",
    "    if test_acc >= 99.4:\n",
    "        print(f\"✅ Target accuracy of 99.4% achieved in epoch {epoch}!\")\n",
    "        if epoch < num_epochs:\n",
    "            print(\"Continuing training to see if we can improve further...\")"
   ]
  },
  {
   "cell_type": "markdown",
   "metadata": {},
   "source": [
    "## Visualization and Results"
   ]
  },
  {
   "cell_type": "code",
   "execution_count": 22,
   "metadata": {},
   "outputs": [
    {
     "data": {
      "image/png": "[encoded data removed]",
      "text/plain": [
       "<Figure size 1500x500 with 2 Axes>"
      ]
     },
     "metadata": {},
     "output_type": "display_data"
    },
    {
     "name": "stdout",
     "output_type": "stream",
     "text": [
      "\n",
      "==================================================\n",
      "FINAL RESULTS - ITERATION 5\n",
      "==================================================\n",
      "Model Architecture: Conservative Channel Reduction\n",
      "Channel Progression: 1→16→20→28→36→48\n",
      "Total Parameters: 19,798\n",
      "Parameter Goal: < 20,000\n",
      "Parameter Status: ✅ PASS\n",
      "\n",
      "Best Test Accuracy: 99.45%\n",
      "Target Accuracy: 99.4%\n",
      "Accuracy Status: ✅ PASS\n",
      "==================================================\n"
     ]
    }
   ],
   "source": [
    "# Plot training history\n",
    "fig, axes = plt.subplots(1, 2, figsize=(15, 5))\n",
    "\n",
    "# Loss plot\n",
    "axes[0].plot(train_losses, label='Train Loss', linewidth=2)\n",
    "axes[0].plot(test_losses, label='Test Loss', linewidth=2)\n",
    "axes[0].set_xlabel('Epoch')\n",
    "axes[0].set_ylabel('Loss')\n",
    "axes[0].set_title('Training and Test Loss')\n",
    "axes[0].legend()\n",
    "axes[0].grid(True, alpha=0.3)\n",
    "\n",
    "# Accuracy plot\n",
    "axes[1].plot(train_accuracies, label='Train Accuracy', linewidth=2)\n",
    "axes[1].plot(test_accuracies, label='Test Accuracy', linewidth=2)\n",
    "axes[1].axhline(y=99.4, color='r', linestyle='--', label='Target (99.4%)')\n",
    "axes[1].set_xlabel('Epoch')\n",
    "axes[1].set_ylabel('Accuracy (%)')\n",
    "axes[1].set_title('Training and Test Accuracy')\n",
    "axes[1].legend()\n",
    "axes[1].grid(True, alpha=0.3)\n",
    "axes[1].set_ylim([97, 100])\n",
    "\n",
    "plt.tight_layout()\n",
    "plt.show()\n",
    "\n",
    "# Final results summary\n",
    "print(\"\\n\" + \"=\"*50)\n",
    "print(\"FINAL RESULTS - ITERATION 5\")\n",
    "print(\"=\"*50)\n",
    "print(f\"Model Architecture: Conservative Channel Reduction\")\n",
    "print(f\"Channel Progression: 1→16→20→28→36→48\")\n",
    "print(f\"Total Parameters: {total_params:,}\")\n",
    "print(f\"Parameter Goal: < 20,000\")\n",
    "print(f\"Parameter Status: {'✅ PASS' if total_params < 20000 else '❌ FAIL'}\")\n",
    "print(f\"\\nBest Test Accuracy: {best_accuracy:.2f}%\")\n",
    "print(f\"Target Accuracy: 99.4%\")\n",
    "print(f\"Accuracy Status: {'✅ PASS' if best_accuracy >= 99.4 else '❌ FAIL'}\")\n",
    "print(\"=\"*50)"
   ]
  },
  {
   "cell_type": "markdown",
   "metadata": {},
   "source": [
    "## Model Analysis"
   ]
  },
  {
   "cell_type": "code",
   "execution_count": 23,
   "metadata": {},
   "outputs": [
    {
     "name": "stdout",
     "output_type": "stream",
     "text": [
      "No misclassified examples in this batch!\n",
      "\n",
      "Per-Class Accuracy:\n",
      "==============================\n",
      "Digit 0: 99.80% (978/980)\n",
      "Digit 1: 99.74% (1132/1135)\n",
      "Digit 2: 99.32% (1025/1032)\n",
      "Digit 3: 99.60% (1006/1010)\n",
      "Digit 4: 99.69% (979/982)\n",
      "Digit 5: 98.99% (883/892)\n",
      "Digit 6: 98.75% (946/958)\n",
      "Digit 7: 99.32% (1021/1028)\n",
      "Digit 8: 99.59% (970/974)\n",
      "Digit 9: 99.21% (1001/1009)\n"
     ]
    }
   ],
   "source": [
    "def analyze_model_predictions(model, device, test_loader, num_samples=5):\n",
    "    \"\"\"Analyze model predictions and show some examples\"\"\"\n",
    "    model.eval()\n",
    "    \n",
    "    # Get a batch of test data\n",
    "    data, target = next(iter(test_loader))\n",
    "    data, target = data.to(device), target.to(device)\n",
    "    \n",
    "    with torch.no_grad():\n",
    "        output = model(data)\n",
    "        pred = output.argmax(dim=1, keepdim=True)\n",
    "        \n",
    "    # Find misclassified examples\n",
    "    misclassified_mask = ~pred.eq(target.view_as(pred)).squeeze()\n",
    "    misclassified_indices = torch.where(misclassified_mask)[0][:num_samples]\n",
    "    \n",
    "    if len(misclassified_indices) > 0:\n",
    "        print(f\"\\nShowing {len(misclassified_indices)} misclassified examples:\")\n",
    "        fig, axes = plt.subplots(1, len(misclassified_indices), figsize=(3*len(misclassified_indices), 3))\n",
    "        if len(misclassified_indices) == 1:\n",
    "            axes = [axes]\n",
    "            \n",
    "        for idx, mis_idx in enumerate(misclassified_indices):\n",
    "            img = data[mis_idx].cpu().squeeze()\n",
    "            # Denormalize for visualization\n",
    "            img = img * MNIST_STD + MNIST_MEAN\n",
    "            \n",
    "            axes[idx].imshow(img, cmap='gray')\n",
    "            axes[idx].set_title(f'True: {target[mis_idx].item()}\\nPred: {pred[mis_idx].item()}')\n",
    "            axes[idx].axis('off')\n",
    "            \n",
    "        plt.tight_layout()\n",
    "        plt.show()\n",
    "    else:\n",
    "        print(\"No misclassified examples in this batch!\")\n",
    "    \n",
    "    # Calculate per-class accuracy\n",
    "    class_correct = torch.zeros(10)\n",
    "    class_total = torch.zeros(10)\n",
    "    \n",
    "    with torch.no_grad():\n",
    "        for data, target in test_loader:\n",
    "            data, target = data.to(device), target.to(device)\n",
    "            output = model(data)\n",
    "            pred = output.argmax(dim=1)\n",
    "            \n",
    "            for i in range(10):\n",
    "                class_mask = target == i\n",
    "                class_correct[i] += (pred[class_mask] == i).sum().item()\n",
    "                class_total[i] += class_mask.sum().item()\n",
    "    \n",
    "    print(\"\\nPer-Class Accuracy:\")\n",
    "    print(\"=\"*30)\n",
    "    for i in range(10):\n",
    "        if class_total[i] > 0:\n",
    "            acc = 100 * class_correct[i] / class_total[i]\n",
    "            print(f\"Digit {i}: {acc:.2f}% ({int(class_correct[i])}/{int(class_total[i])})\")\n",
    "\n",
    "# Run analysis\n",
    "analyze_model_predictions(model, device, test_loader)"
   ]
  },
  {
   "cell_type": "markdown",
   "metadata": {},
   "source": [
    "## Key Improvements Summary\n",
    "\n",
    "### Architecture Changes from Iteration 4:\n",
    "1. **Channel Reduction**: 1→16→20→28→36→48 (was 1→16→20→32→48→64)\n",
    "2. **Parameter Reduction**: ~19,798 parameters (down from 26,202)\n",
    "3. **Maintained Strategies**:\n",
    "   - Fixed normalization (0.1307, 0.3081)\n",
    "   - Progressive dropout (0.05→0.10→0.15)\n",
    "   - 1x1 convolution for channel expansion\n",
    "   - Global Average Pooling\n",
    "\n",
    "### Expected Outcomes:\n",
    "- Parameters: Under 20,000 ✅\n",
    "- Accuracy: 99.3-99.4% (may need fine-tuning)\n",
    "- Training stability: Maintained from iteration 4"
   ]
  }
 ],
 "metadata": {
  "kernelspec": {
   "display_name": "Python 3",
   "language": "python",
   "name": "python3"
  },
  "language_info": {
   "codemirror_mode": {
    "name": "ipython",
    "version": 3
   },
   "file_extension": ".py",
   "mimetype": "text/x-python",
   "name": "python",
   "nbconvert_exporter": "python",
   "pygments_lexer": "ipython3",
   "version": "3.8.0"
  }
 },
 "nbformat": 4,
 "nbformat_minor": 4
}
