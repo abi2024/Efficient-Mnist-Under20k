{
 "cells": [
  {
   "cell_type": "markdown",
   "metadata": {
    "id": "n09vaEgP6pLj"
   },
   "source": [
    "CODE BLOCK: 1"
   ]
  },
  {
   "cell_type": "code",
   "execution_count": 19,
   "metadata": {},
   "outputs": [
    {
     "name": "stdout",
     "output_type": "stream",
     "text": [
      "Looking in indexes: https://download.pytorch.org/whl/cu124\n",
      "Requirement already satisfied: torch in c:\\users\\abishek satnur\\desktop\\era_v4\\session_4\\.venv\\lib\\site-packages (2.6.0+cu124)\n",
      "Requirement already satisfied: torchvision in c:\\users\\abishek satnur\\desktop\\era_v4\\session_4\\.venv\\lib\\site-packages (0.21.0+cu124)\n",
      "Requirement already satisfied: filelock in c:\\users\\abishek satnur\\desktop\\era_v4\\session_4\\.venv\\lib\\site-packages (from torch) (3.13.1)\n",
      "Requirement already satisfied: typing-extensions>=4.10.0 in c:\\users\\abishek satnur\\desktop\\era_v4\\session_4\\.venv\\lib\\site-packages (from torch) (4.12.2)\n",
      "Requirement already satisfied: networkx in c:\\users\\abishek satnur\\desktop\\era_v4\\session_4\\.venv\\lib\\site-packages (from torch) (3.3)\n",
      "Requirement already satisfied: jinja2 in c:\\users\\abishek satnur\\desktop\\era_v4\\session_4\\.venv\\lib\\site-packages (from torch) (3.1.4)\n",
      "Requirement already satisfied: fsspec in c:\\users\\abishek satnur\\desktop\\era_v4\\session_4\\.venv\\lib\\site-packages (from torch) (2024.6.1)\n",
      "Requirement already satisfied: setuptools in c:\\users\\abishek satnur\\desktop\\era_v4\\session_4\\.venv\\lib\\site-packages (from torch) (70.2.0)\n",
      "Requirement already satisfied: sympy==1.13.1 in c:\\users\\abishek satnur\\desktop\\era_v4\\session_4\\.venv\\lib\\site-packages (from torch) (1.13.1)\n",
      "Requirement already satisfied: mpmath<1.4,>=1.1.0 in c:\\users\\abishek satnur\\desktop\\era_v4\\session_4\\.venv\\lib\\site-packages (from sympy==1.13.1->torch) (1.3.0)\n",
      "Requirement already satisfied: numpy in c:\\users\\abishek satnur\\desktop\\era_v4\\session_4\\.venv\\lib\\site-packages (from torchvision) (2.1.2)\n",
      "Requirement already satisfied: pillow!=8.3.*,>=5.3.0 in c:\\users\\abishek satnur\\desktop\\era_v4\\session_4\\.venv\\lib\\site-packages (from torchvision) (11.0.0)\n",
      "Requirement already satisfied: MarkupSafe>=2.0 in c:\\users\\abishek satnur\\desktop\\era_v4\\session_4\\.venv\\lib\\site-packages (from jinja2->torch) (2.1.5)\n",
      "Requirement already satisfied: tqdm in c:\\users\\abishek satnur\\desktop\\era_v4\\session_4\\.venv\\lib\\site-packages (4.67.1)\n",
      "Requirement already satisfied: colorama in c:\\users\\abishek satnur\\desktop\\era_v4\\session_4\\.venv\\lib\\site-packages (from tqdm) (0.4.6)\n",
      "Requirement already satisfied: matplotlib in c:\\users\\abishek satnur\\desktop\\era_v4\\session_4\\.venv\\lib\\site-packages (3.10.6)\n",
      "Requirement already satisfied: contourpy>=1.0.1 in c:\\users\\abishek satnur\\desktop\\era_v4\\session_4\\.venv\\lib\\site-packages (from matplotlib) (1.3.3)\n",
      "Requirement already satisfied: cycler>=0.10 in c:\\users\\abishek satnur\\desktop\\era_v4\\session_4\\.venv\\lib\\site-packages (from matplotlib) (0.12.1)\n",
      "Requirement already satisfied: fonttools>=4.22.0 in c:\\users\\abishek satnur\\desktop\\era_v4\\session_4\\.venv\\lib\\site-packages (from matplotlib) (4.60.1)\n",
      "Requirement already satisfied: kiwisolver>=1.3.1 in c:\\users\\abishek satnur\\desktop\\era_v4\\session_4\\.venv\\lib\\site-packages (from matplotlib) (1.4.9)\n",
      "Requirement already satisfied: numpy>=1.23 in c:\\users\\abishek satnur\\desktop\\era_v4\\session_4\\.venv\\lib\\site-packages (from matplotlib) (2.1.2)\n",
      "Requirement already satisfied: packaging>=20.0 in c:\\users\\abishek satnur\\desktop\\era_v4\\session_4\\.venv\\lib\\site-packages (from matplotlib) (25.0)\n",
      "Requirement already satisfied: pillow>=8 in c:\\users\\abishek satnur\\desktop\\era_v4\\session_4\\.venv\\lib\\site-packages (from matplotlib) (11.0.0)\n",
      "Requirement already satisfied: pyparsing>=2.3.1 in c:\\users\\abishek satnur\\desktop\\era_v4\\session_4\\.venv\\lib\\site-packages (from matplotlib) (3.2.5)\n",
      "Requirement already satisfied: python-dateutil>=2.7 in c:\\users\\abishek satnur\\desktop\\era_v4\\session_4\\.venv\\lib\\site-packages (from matplotlib) (2.9.0.post0)\n",
      "Requirement already satisfied: six>=1.5 in c:\\users\\abishek satnur\\desktop\\era_v4\\session_4\\.venv\\lib\\site-packages (from python-dateutil>=2.7->matplotlib) (1.17.0)\n",
      "Requirement already satisfied: numpy in c:\\users\\abishek satnur\\desktop\\era_v4\\session_4\\.venv\\lib\\site-packages (2.1.2)\n",
      "Requirement already satisfied: torchsummary in c:\\users\\abishek satnur\\desktop\\era_v4\\session_4\\.venv\\lib\\site-packages (1.5.1)\n",
      "Python version: 3.12.3 (tags/v3.12.3:f6650f9, Apr  9 2024, 14:05:25) [MSC v.1938 64 bit (AMD64)]\n",
      "\n",
      "Checking package installations...\n",
      "✅ PyTorch: Installed\n",
      "✅ TorchVision: Installed\n",
      "✅ tqdm (progress bars): Installed\n",
      "✅ Matplotlib (plotting): Installed\n",
      "✅ NumPy: Installed\n",
      "\n",
      "✅ All required packages are installed. Ready to proceed!\n",
      "\n",
      "🖥️ PyTorch Version: 2.6.0+cu124\n",
      "🎮 CUDA Available: True\n",
      "📊 GPU: NVIDIA GeForce RTX 4050 Laptop GPU\n",
      "💾 GPU Memory: 6.00 GB\n",
      "✅ GPU acceleration is enabled!\n"
     ]
    }
   ],
   "source": [
    "# Install all required packages\n",
    "# For GPU (CUDA 12.4) - Recommended for your RTX 4050\n",
    "!pip install torch torchvision --index-url https://download.pytorch.org/whl/cu124\n",
    "\n",
    "# Additional packages\n",
    "!pip install tqdm\n",
    "!pip install matplotlib\n",
    "!pip install numpy\n",
    "!pip install torchsummary\n",
    "\n",
    "# Quick installation check\n",
    "import sys\n",
    "print(\"Python version:\", sys.version)\n",
    "print(\"\\nChecking package installations...\")\n",
    "\n",
    "packages_to_check = {\n",
    "    'torch': 'PyTorch',\n",
    "    'torchvision': 'TorchVision',\n",
    "    'tqdm': 'tqdm (progress bars)',\n",
    "    'matplotlib': 'Matplotlib (plotting)',\n",
    "    'numpy': 'NumPy',\n",
    "}\n",
    "\n",
    "missing_packages = []\n",
    "for package, name in packages_to_check.items():\n",
    "    try:\n",
    "        __import__(package)\n",
    "        print(f\"✅ {name}: Installed\")\n",
    "    except ImportError:\n",
    "        print(f\"❌ {name}: Not installed\")\n",
    "        missing_packages.append(package)\n",
    "\n",
    "if missing_packages:\n",
    "    print(f\"\\n⚠️ Missing packages detected: {', '.join(missing_packages)}\")\n",
    "    print(\"Installation in progress above. Please wait for completion.\")\n",
    "else:\n",
    "    print(\"\\n✅ All required packages are installed. Ready to proceed!\")\n",
    "    \n",
    "# Verify CUDA availability after PyTorch installation\n",
    "try:\n",
    "    import torch\n",
    "    print(f\"\\n🖥️ PyTorch Version: {torch.__version__}\")\n",
    "    print(f\"🎮 CUDA Available: {torch.cuda.is_available()}\")\n",
    "    if torch.cuda.is_available():\n",
    "        print(f\"📊 GPU: {torch.cuda.get_device_name(0)}\")\n",
    "        print(f\"💾 GPU Memory: {torch.cuda.get_device_properties(0).total_memory / 1024**3:.2f} GB\")\n",
    "        print(\"✅ GPU acceleration is enabled!\")\n",
    "    else:\n",
    "        print(\"⚠️ GPU not detected - will use CPU for training\")\n",
    "except ImportError:\n",
    "    print(\"\\n⚠️ PyTorch not yet installed. Please wait for installation to complete.\")"
   ]
  },
  {
   "cell_type": "markdown",
   "metadata": {},
   "source": [
    "# Lightweight CNN for MNIST Classification\n",
    "\n",
    "This notebook implements a lightweight CNN for MNIST digit classification with the following goals:\n",
    "- **Parameter Count**: < 25,000 parameters\n",
    "- **Accuracy Target**: ≥ 95% test accuracy in 1 epoch\n",
    "\n",
    "## Installation\n",
    "\n",
    "Run the cell below to install all required packages:"
   ]
  },
  {
   "cell_type": "code",
   "execution_count": 20,
   "metadata": {
    "id": "6PlbomWY3RSq"
   },
   "outputs": [],
   "source": [
    "import torch\n",
    "import torch.nn as nn\n",
    "import torch.nn.functional as F\n",
    "import torch.optim as optim\n",
    "from torchvision import datasets, transforms"
   ]
  },
  {
   "cell_type": "markdown",
   "metadata": {
    "id": "VjBHHQVA6sXt"
   },
   "source": [
    "CODE BLOCK: 2"
   ]
  },
  {
   "cell_type": "code",
   "execution_count": 21,
   "metadata": {
    "colab": {
     "base_uri": "https://localhost:8080/"
    },
    "id": "94BxVVBP3WwS",
    "outputId": "e93ef44f-c5ba-4e38-8185-2153cbef68b5"
   },
   "outputs": [
    {
     "name": "stdout",
     "output_type": "stream",
     "text": [
      "============================================================\n",
      "SYSTEM INFORMATION\n",
      "============================================================\n",
      "CUDA Available: True\n",
      "Device: cuda\n",
      "GPU: NVIDIA GeForce RTX 4050 Laptop GPU\n",
      "GPU Memory: 6.00 GB\n"
     ]
    }
   ],
   "source": [
    "# CUDA and Device Configuration\n",
    "import platform\n",
    "import datetime\n",
    "\n",
    "print(\"=\"*60)\n",
    "print(\"SYSTEM INFORMATION\")\n",
    "print(\"=\"*60)\n",
    "cuda = torch.cuda.is_available()\n",
    "print(f\"CUDA Available: {cuda}\")\n",
    "device = torch.device(\"cuda\" if torch.cuda.is_available() else \"cpu\")\n",
    "print(f\"Device: {device}\")\n",
    "\n",
    "if cuda:\n",
    "    print(f\"GPU: {torch.cuda.get_device_name(0)}\")\n",
    "    print(f\"GPU Memory: {torch.cuda.get_device_properties(0).total_memory / 1024**3:.2f} GB\")"
   ]
  },
  {
   "cell_type": "markdown",
   "metadata": {
    "id": "3UHq59Sw6tmW"
   },
   "source": [
    "CODE BLOCK: 3"
   ]
  },
  {
   "cell_type": "code",
   "execution_count": 22,
   "metadata": {
    "id": "KpshQ2Ug38m2"
   },
   "outputs": [],
   "source": [
    "# Train data transformations\n",
    "train_transforms = transforms.Compose([\n",
    "    transforms.RandomApply([transforms.CenterCrop(22), ], p=0.1),\n",
    "    transforms.Resize((28, 28)),\n",
    "    transforms.RandomRotation((-15., 15.), fill=0),\n",
    "    transforms.ToTensor(),\n",
    "    transforms.Normalize((0.1307,), (0.3081,)),\n",
    "    ])\n",
    "\n",
    "# Test data transformations\n",
    "test_transforms = transforms.Compose([\n",
    "    transforms.ToTensor(),\n",
    "    transforms.Normalize((0.1407,), (0.4081,))\n",
    "    ])"
   ]
  },
  {
   "cell_type": "markdown",
   "metadata": {
    "id": "zQm17pM46zHL"
   },
   "source": [
    "CODE BLOCK: 4"
   ]
  },
  {
   "cell_type": "code",
   "execution_count": 23,
   "metadata": {
    "id": "JB79ZYW13-AO"
   },
   "outputs": [],
   "source": [
    "train_data = datasets.MNIST('../data', train=True, download=True, transform=train_transforms)\n",
    "test_data = datasets.MNIST('../data', train=False, download=True, transform=test_transforms)"
   ]
  },
  {
   "cell_type": "markdown",
   "metadata": {
    "id": "_PKSHxto6116"
   },
   "source": [
    "CODE BLOCK: 5"
   ]
  },
  {
   "cell_type": "code",
   "execution_count": 24,
   "metadata": {
    "id": "avCKK1uL4A68"
   },
   "outputs": [],
   "source": [
    "batch_size = 128\n",
    "\n",
    "kwargs = {'batch_size': batch_size, 'shuffle': True, 'num_workers': 2, 'pin_memory': True}\n",
    "\n",
    "test_loader = torch.utils.data.DataLoader(test_data, **kwargs)\n",
    "train_loader = torch.utils.data.DataLoader(train_data, **kwargs)"
   ]
  },
  {
   "cell_type": "markdown",
   "metadata": {
    "id": "Hi_0rfq56-29"
   },
   "source": [
    "CODE BLOCK: 6"
   ]
  },
  {
   "cell_type": "code",
   "execution_count": 25,
   "metadata": {
    "colab": {
     "base_uri": "https://localhost:8080/",
     "height": 463
    },
    "id": "Hx7QkLcw4Epc",
    "outputId": "84f375ff-588f-4337-f7ed-ae4b3fd744af"
   },
   "outputs": [
    {
     "data": {
      "image/png": "[encoded data removed]",
      "text/plain": [
       "<Figure size 640x480 with 12 Axes>"
      ]
     },
     "metadata": {},
     "output_type": "display_data"
    }
   ],
   "source": [
    "import matplotlib.pyplot as plt\n",
    "\n",
    "batch_data, batch_label = next(iter(train_loader))\n",
    "\n",
    "fig = plt.figure()\n",
    "\n",
    "for i in range(12):\n",
    "  plt.subplot(3,4,i+1)\n",
    "  plt.tight_layout()\n",
    "  plt.imshow(batch_data[i].squeeze(0), cmap='gray')\n",
    "  plt.title(batch_label[i].item())\n",
    "  plt.xticks([])\n",
    "  plt.yticks([])"
   ]
  },
  {
   "cell_type": "markdown",
   "metadata": {
    "id": "y3XbVJSb7Aee"
   },
   "source": [
    "CODE BLOCK: 7"
   ]
  },
  {
   "cell_type": "code",
   "execution_count": 26,
   "metadata": {
    "id": "UHBolvMH4F8y"
   },
   "outputs": [],
   "source": [
    "class Net(nn.Module):\n",
    "    #This defines the structure of the NN.\n",
    "    def __init__(self):\n",
    "        super(Net, self).__init__()\n",
    "        # Convolutional Block 1\n",
    "        self.conv1 = nn.Conv2d(1, 10, kernel_size=3) # Output: 10x26x26\n",
    "        self.bn1 = nn.BatchNorm2d(10)\n",
    "\n",
    "        # Convolutional Block 2\n",
    "        self.conv2 = nn.Conv2d(10, 20, kernel_size=3) # Output: 20x24x24\n",
    "        self.bn2 = nn.BatchNorm2d(20)\n",
    "\n",
    "        # Max Pooling and Dropout\n",
    "        self.pool = nn.MaxPool2d(2, 2) # After first pool: 20x12x12, After second pool: 20x6x6\n",
    "        self.dropout = nn.Dropout2d(0.25)\n",
    "\n",
    "        # Fully Connected Layer\n",
    "        self.fc1 = nn.Linear(20 * 6 * 6, 10) # 720 input features, 10 output classes\n",
    "\n",
    "    def forward(self, x):\n",
    "        x = self.bn1(F.relu(self.conv1(x)))\n",
    "        x = self.pool(self.bn2(F.relu(self.conv2(x))))\n",
    "        x = self.pool(x)  # Add second pooling here\n",
    "        x = self.dropout(x)\n",
    "\n",
    "        # Flatten the tensor for the fully connected layer\n",
    "        x = x.view(-1, 20 * 6 * 6)\n",
    "\n",
    "        x = self.fc1(x)\n",
    "        return F.log_softmax(x, dim=-1)"
   ]
  },
  {
   "cell_type": "markdown",
   "metadata": {
    "id": "89gd4_s7AO2y"
   },
   "source": [
    "CODE BLOCK: 8"
   ]
  },
  {
   "cell_type": "code",
   "execution_count": 27,
   "metadata": {
    "id": "7du4zM474LvT"
   },
   "outputs": [],
   "source": [
    "# Data to plot accuracy and loss graphs\n",
    "train_losses = []\n",
    "test_losses = []\n",
    "train_acc = []\n",
    "test_acc = []\n",
    "\n",
    "test_incorrect_pred = {'images': [], 'ground_truths': [], 'predicted_vals': []}"
   ]
  },
  {
   "cell_type": "markdown",
   "metadata": {
    "id": "kCwIPHqwAQgB"
   },
   "source": [
    "CODE BLOCK: 9"
   ]
  },
  {
   "cell_type": "code",
   "execution_count": 28,
   "metadata": {
    "id": "gpNw3-sy4QGd"
   },
   "outputs": [],
   "source": [
    "from tqdm import tqdm\n",
    "import time\n",
    "\n",
    "def GetCorrectPredCount(pPrediction, pLabels):\n",
    "    return pPrediction.argmax(dim=1).eq(pLabels).sum().item()\n",
    "\n",
    "def train(model, device, train_loader, optimizer, criterion, epoch):\n",
    "    model.train()\n",
    "    pbar = tqdm(train_loader)\n",
    "    \n",
    "    train_loss = 0\n",
    "    correct = 0\n",
    "    processed = 0\n",
    "    batch_losses = []\n",
    "    \n",
    "    start_time = time.time()\n",
    "    \n",
    "    for batch_idx, (data, target) in enumerate(pbar):\n",
    "        data, target = data.to(device), target.to(device)\n",
    "        optimizer.zero_grad()\n",
    "        \n",
    "        # Predict\n",
    "        pred = model(data)\n",
    "        \n",
    "        # Calculate loss\n",
    "        loss = criterion(pred, target)\n",
    "        train_loss += loss.item()\n",
    "        batch_losses.append(loss.item())\n",
    "        \n",
    "        # Backpropagation\n",
    "        loss.backward()\n",
    "        optimizer.step()\n",
    "        \n",
    "        correct += GetCorrectPredCount(pred, target)\n",
    "        processed += len(data)\n",
    "        \n",
    "        # Enhanced progress bar with more metrics\n",
    "        pbar.set_description(\n",
    "            f'Epoch {epoch} | Loss={loss.item():0.4f} | '\n",
    "            f'Batch {batch_idx}/{len(train_loader)} | '\n",
    "            f'Acc={100*correct/processed:0.2f}%'\n",
    "        )\n",
    "    \n",
    "    epoch_time = time.time() - start_time\n",
    "    final_acc = 100*correct/processed\n",
    "    avg_loss = train_loss/len(train_loader)\n",
    "    \n",
    "    # Store metrics\n",
    "    train_acc.append(final_acc)\n",
    "    train_losses.append(avg_loss)\n",
    "    \n",
    "    # Detailed epoch summary\n",
    "    print(f\"\\n📊 TRAINING SUMMARY - Epoch {epoch}\")\n",
    "    print(f\"   ├── Final Accuracy: {final_acc:.2f}%\")\n",
    "    print(f\"   ├── Average Loss: {avg_loss:.4f}\")\n",
    "    print(f\"   ├── Min/Max Batch Loss: {min(batch_losses):.4f} / {max(batch_losses):.4f}\")\n",
    "    print(f\"   ├── Total Samples: {processed}\")\n",
    "    print(f\"   └── Time Taken: {epoch_time:.2f} seconds\")\n",
    "    \n",
    "    return final_acc, avg_loss\n",
    "\n",
    "def test(model, device, test_loader, criterion, epoch):\n",
    "    model.eval()\n",
    "    \n",
    "    test_loss = 0\n",
    "    correct = 0\n",
    "    class_correct = list(0. for i in range(10))\n",
    "    class_total = list(0. for i in range(10))\n",
    "    \n",
    "    start_time = time.time()\n",
    "    \n",
    "    with torch.no_grad():\n",
    "        for batch_idx, (data, target) in enumerate(test_loader):\n",
    "            data, target = data.to(device), target.to(device)\n",
    "            \n",
    "            output = model(data)\n",
    "            test_loss += criterion(output, target).item()\n",
    "            \n",
    "            pred = output.argmax(dim=1, keepdim=True)\n",
    "            correct += pred.eq(target.view_as(pred)).sum().item()\n",
    "            \n",
    "            # Per-class accuracy\n",
    "            c = pred.squeeze()\n",
    "            for i in range(target.size(0)):\n",
    "                label = target[i]\n",
    "                class_correct[label] += c[i] == label\n",
    "                class_total[label] += 1\n",
    "    \n",
    "    test_time = time.time() - start_time\n",
    "    test_loss /= len(test_loader.dataset)\n",
    "    accuracy = 100. * correct / len(test_loader.dataset)\n",
    "    \n",
    "    test_acc.append(accuracy)\n",
    "    test_losses.append(test_loss)\n",
    "    \n",
    "    # Detailed test summary\n",
    "    print(f\"\\n📈 TEST SUMMARY - Epoch {epoch}\")\n",
    "    print(f\"   ├── Test Accuracy: {accuracy:.2f}% ({correct}/{len(test_loader.dataset)})\")\n",
    "    print(f\"   ├── Average Loss: {test_loss:.4f}\")\n",
    "    print(f\"   ├── Time Taken: {test_time:.2f} seconds\")\n",
    "    \n",
    "    # Per-class accuracy\n",
    "    print(f\"   └── Per-Class Accuracy:\")\n",
    "    for i in range(10):\n",
    "        if class_total[i] > 0:\n",
    "            class_acc = 100 * class_correct[i]/class_total[i]\n",
    "            print(f\"       ├── Class {i}: {class_acc:.2f}%\")\n",
    "    \n",
    "    return accuracy, test_loss"
   ]
  },
  {
   "cell_type": "markdown",
   "metadata": {
    "id": "09GYKBGRAT5M"
   },
   "source": [
    "CODE BLOCK: 10"
   ]
  },
  {
   "cell_type": "code",
   "execution_count": 29,
   "metadata": {
    "colab": {
     "base_uri": "https://localhost:8080/"
    },
    "id": "Owqiet9M4TV7",
    "outputId": "54b9c2cc-9614-47b0-f58b-4baac920db3a"
   },
   "outputs": [
    {
     "name": "stdout",
     "output_type": "stream",
     "text": [
      "============================================================\n",
      "🎯 PROJECT GOALS\n",
      "============================================================\n",
      "✅ Parameter Count: < 25,000 parameters\n",
      "✅ Test Accuracy: >= 95.0% in 1 epoch\n",
      "============================================================\n",
      "\n",
      "📐 MODEL ARCHITECTURE ANALYSIS\n",
      "============================================================\n",
      "Total Parameters: 9,190\n",
      "Trainable Parameters: 9,190\n",
      "Non-trainable Parameters: 0\n",
      "✅ PASS: Model has 15,810 fewer parameters than goal!\n",
      "\n",
      "📋 LAYER-WISE PARAMETER BREAKDOWN:\n",
      "----------------------------------------\n",
      "conv1.weight         | Shape: [10, 1, 3, 3]        | Params: 90\n",
      "conv1.bias           | Shape: [10]                 | Params: 10\n",
      "bn1.weight           | Shape: [10]                 | Params: 10\n",
      "bn1.bias             | Shape: [10]                 | Params: 10\n",
      "conv2.weight         | Shape: [20, 10, 3, 3]       | Params: 1,800\n",
      "conv2.bias           | Shape: [20]                 | Params: 20\n",
      "bn2.weight           | Shape: [20]                 | Params: 20\n",
      "bn2.bias             | Shape: [20]                 | Params: 20\n",
      "fc1.weight           | Shape: [10, 720]            | Params: 7,200\n",
      "fc1.bias             | Shape: [10]                 | Params: 10\n",
      "============================================================\n",
      "\n",
      "⚙️ TRAINING CONFIGURATION\n",
      "============================================================\n",
      "Optimizer: Adam (lr=0.01)\n",
      "Scheduler: StepLR (step_size=15, gamma=0.1)\n",
      "Loss Function: CrossEntropyLoss\n",
      "Batch Size: 128\n",
      "Number of Epochs: 5\n",
      "============================================================\n",
      "\n",
      "🚀 STARTING TRAINING\n",
      "============================================================\n",
      "\n",
      "============================================================\n",
      "EPOCH 1/5\n",
      "============================================================\n"
     ]
    },
    {
     "name": "stderr",
     "output_type": "stream",
     "text": [
      "Epoch 1 | Loss=0.1748 | Batch 468/469 | Acc=90.91%: 100%|██████████| 469/469 [00:07<00:00, 64.03it/s] \n"
     ]
    },
    {
     "name": "stdout",
     "output_type": "stream",
     "text": [
      "\n",
      "📊 TRAINING SUMMARY - Epoch 1\n",
      "   ├── Final Accuracy: 90.91%\n",
      "   ├── Average Loss: 0.3268\n",
      "   ├── Min/Max Batch Loss: 0.0442 / 7.7472\n",
      "   ├── Total Samples: 60000\n",
      "   └── Time Taken: 7.32 seconds\n",
      "\n",
      "📈 TEST SUMMARY - Epoch 1\n",
      "   ├── Test Accuracy: 97.87% (9787/10000)\n",
      "   ├── Average Loss: 0.0005\n",
      "   ├── Time Taken: 4.74 seconds\n",
      "   └── Per-Class Accuracy:\n",
      "       ├── Class 0: 98.98%\n",
      "       ├── Class 1: 99.03%\n",
      "       ├── Class 2: 98.84%\n",
      "       ├── Class 3: 98.61%\n",
      "       ├── Class 4: 94.60%\n",
      "       ├── Class 5: 98.99%\n",
      "       ├── Class 6: 98.96%\n",
      "       ├── Class 7: 95.53%\n",
      "       ├── Class 8: 97.02%\n",
      "       ├── Class 9: 98.12%\n",
      "\n",
      "🎉 SUCCESS! Goal achieved in epoch 1!\n",
      "   Test Accuracy: 97.87% >= 95.0%\n",
      "\n",
      "📉 Learning Rate: 0.010000\n",
      "\n",
      "============================================================\n",
      "EPOCH 2/5\n",
      "============================================================\n"
     ]
    },
    {
     "name": "stderr",
     "output_type": "stream",
     "text": [
      "Epoch 2 | Loss=0.1383 | Batch 468/469 | Acc=96.25%: 100%|██████████| 469/469 [00:07<00:00, 66.51it/s] \n"
     ]
    },
    {
     "name": "stdout",
     "output_type": "stream",
     "text": [
      "\n",
      "📊 TRAINING SUMMARY - Epoch 2\n",
      "   ├── Final Accuracy: 96.25%\n",
      "   ├── Average Loss: 0.1229\n",
      "   ├── Min/Max Batch Loss: 0.0181 / 0.3989\n",
      "   ├── Total Samples: 60000\n",
      "   └── Time Taken: 7.05 seconds\n",
      "\n",
      "📈 TEST SUMMARY - Epoch 2\n",
      "   ├── Test Accuracy: 98.27% (9827/10000)\n",
      "   ├── Average Loss: 0.0004\n",
      "   ├── Time Taken: 4.45 seconds\n",
      "   └── Per-Class Accuracy:\n",
      "       ├── Class 0: 99.69%\n",
      "       ├── Class 1: 99.65%\n",
      "       ├── Class 2: 97.77%\n",
      "       ├── Class 3: 99.31%\n",
      "       ├── Class 4: 95.82%\n",
      "       ├── Class 5: 97.31%\n",
      "       ├── Class 6: 98.96%\n",
      "       ├── Class 7: 97.86%\n",
      "       ├── Class 8: 97.43%\n",
      "       ├── Class 9: 98.61%\n",
      "\n",
      "📉 Learning Rate: 0.010000\n",
      "\n",
      "============================================================\n",
      "EPOCH 3/5\n",
      "============================================================\n"
     ]
    },
    {
     "name": "stderr",
     "output_type": "stream",
     "text": [
      "Epoch 3 | Loss=0.1147 | Batch 468/469 | Acc=96.75%: 100%|██████████| 469/469 [00:06<00:00, 70.90it/s] \n"
     ]
    },
    {
     "name": "stdout",
     "output_type": "stream",
     "text": [
      "\n",
      "📊 TRAINING SUMMARY - Epoch 3\n",
      "   ├── Final Accuracy: 96.75%\n",
      "   ├── Average Loss: 0.1067\n",
      "   ├── Min/Max Batch Loss: 0.0240 / 0.2990\n",
      "   ├── Total Samples: 60000\n",
      "   └── Time Taken: 6.62 seconds\n",
      "\n",
      "📈 TEST SUMMARY - Epoch 3\n",
      "   ├── Test Accuracy: 98.59% (9859/10000)\n",
      "   ├── Average Loss: 0.0004\n",
      "   ├── Time Taken: 4.48 seconds\n",
      "   └── Per-Class Accuracy:\n",
      "       ├── Class 0: 99.80%\n",
      "       ├── Class 1: 99.74%\n",
      "       ├── Class 2: 98.64%\n",
      "       ├── Class 3: 98.02%\n",
      "       ├── Class 4: 99.59%\n",
      "       ├── Class 5: 98.21%\n",
      "       ├── Class 6: 97.39%\n",
      "       ├── Class 7: 98.44%\n",
      "       ├── Class 8: 98.67%\n",
      "       ├── Class 9: 97.22%\n",
      "\n",
      "📉 Learning Rate: 0.010000\n",
      "\n",
      "============================================================\n",
      "EPOCH 4/5\n",
      "============================================================\n"
     ]
    },
    {
     "name": "stderr",
     "output_type": "stream",
     "text": [
      "Epoch 4 | Loss=0.1256 | Batch 468/469 | Acc=96.95%: 100%|██████████| 469/469 [00:06<00:00, 73.38it/s] \n"
     ]
    },
    {
     "name": "stdout",
     "output_type": "stream",
     "text": [
      "\n",
      "📊 TRAINING SUMMARY - Epoch 4\n",
      "   ├── Final Accuracy: 96.95%\n",
      "   ├── Average Loss: 0.0990\n",
      "   ├── Min/Max Batch Loss: 0.0140 / 0.3032\n",
      "   ├── Total Samples: 60000\n",
      "   └── Time Taken: 6.39 seconds\n",
      "\n",
      "📈 TEST SUMMARY - Epoch 4\n",
      "   ├── Test Accuracy: 98.15% (9815/10000)\n",
      "   ├── Average Loss: 0.0005\n",
      "   ├── Time Taken: 4.51 seconds\n",
      "   └── Per-Class Accuracy:\n",
      "       ├── Class 0: 99.80%\n",
      "       ├── Class 1: 98.24%\n",
      "       ├── Class 2: 97.87%\n",
      "       ├── Class 3: 98.91%\n",
      "       ├── Class 4: 97.66%\n",
      "       ├── Class 5: 96.08%\n",
      "       ├── Class 6: 98.23%\n",
      "       ├── Class 7: 97.47%\n",
      "       ├── Class 8: 99.38%\n",
      "       ├── Class 9: 97.72%\n",
      "\n",
      "📉 Learning Rate: 0.010000\n",
      "\n",
      "============================================================\n",
      "EPOCH 5/5\n",
      "============================================================\n"
     ]
    },
    {
     "name": "stderr",
     "output_type": "stream",
     "text": [
      "Epoch 5 | Loss=0.0678 | Batch 468/469 | Acc=97.08%: 100%|██████████| 469/469 [00:06<00:00, 70.22it/s] \n"
     ]
    },
    {
     "name": "stdout",
     "output_type": "stream",
     "text": [
      "\n",
      "📊 TRAINING SUMMARY - Epoch 5\n",
      "   ├── Final Accuracy: 97.08%\n",
      "   ├── Average Loss: 0.0933\n",
      "   ├── Min/Max Batch Loss: 0.0092 / 0.3017\n",
      "   ├── Total Samples: 60000\n",
      "   └── Time Taken: 6.68 seconds\n",
      "\n",
      "📈 TEST SUMMARY - Epoch 5\n",
      "   ├── Test Accuracy: 98.90% (9890/10000)\n",
      "   ├── Average Loss: 0.0003\n",
      "   ├── Time Taken: 4.68 seconds\n",
      "   └── Per-Class Accuracy:\n",
      "       ├── Class 0: 99.49%\n",
      "       ├── Class 1: 99.74%\n",
      "       ├── Class 2: 99.13%\n",
      "       ├── Class 3: 98.61%\n",
      "       ├── Class 4: 99.29%\n",
      "       ├── Class 5: 99.10%\n",
      "       ├── Class 6: 98.75%\n",
      "       ├── Class 7: 98.25%\n",
      "       ├── Class 8: 98.15%\n",
      "       ├── Class 9: 98.41%\n",
      "\n",
      "📉 Learning Rate: 0.010000\n",
      "\n",
      "============================================================\n",
      "🏁 TRAINING COMPLETE\n",
      "============================================================\n"
     ]
    }
   ],
   "source": [
    "# Model initialization and parameter count validation\n",
    "model = Net().to(device)\n",
    "\n",
    "# Define project goals from README\n",
    "PARAM_GOAL = 25000\n",
    "ACCURACY_GOAL = 95.0\n",
    "EPOCH_GOAL = 1\n",
    "\n",
    "print(\"=\"*60)\n",
    "print(\"🎯 PROJECT GOALS\")\n",
    "print(\"=\"*60)\n",
    "print(f\"✅ Parameter Count: < {PARAM_GOAL:,} parameters\")\n",
    "print(f\"✅ Test Accuracy: >= {ACCURACY_GOAL}% in {EPOCH_GOAL} epoch\")\n",
    "print(\"=\"*60)\n",
    "\n",
    "# Detailed parameter count analysis\n",
    "total_params = sum(p.numel() for p in model.parameters())\n",
    "trainable_params = sum(p.numel() for p in model.parameters() if p.requires_grad)\n",
    "non_trainable_params = total_params - trainable_params\n",
    "\n",
    "print(\"\\n📐 MODEL ARCHITECTURE ANALYSIS\")\n",
    "print(\"=\"*60)\n",
    "print(f\"Total Parameters: {total_params:,}\")\n",
    "print(f\"Trainable Parameters: {trainable_params:,}\")\n",
    "print(f\"Non-trainable Parameters: {non_trainable_params:,}\")\n",
    "\n",
    "# Check if model meets parameter goal\n",
    "if total_params < PARAM_GOAL:\n",
    "    print(f\"✅ PASS: Model has {PARAM_GOAL - total_params:,} fewer parameters than goal!\")\n",
    "else:\n",
    "    print(f\"❌ FAIL: Model exceeds parameter limit by {total_params - PARAM_GOAL:,} parameters\")\n",
    "    \n",
    "# Layer-wise parameter breakdown\n",
    "print(\"\\n📋 LAYER-WISE PARAMETER BREAKDOWN:\")\n",
    "print(\"-\"*40)\n",
    "for name, param in model.named_parameters():\n",
    "    print(f\"{name:20} | Shape: {str(list(param.shape)):20} | Params: {param.numel():,}\")\n",
    "print(\"=\"*60)\n",
    "\n",
    "# Training configuration\n",
    "print(\"\\n⚙️ TRAINING CONFIGURATION\")\n",
    "print(\"=\"*60)\n",
    "optimizer = optim.Adam(model.parameters(), lr=0.01)\n",
    "scheduler = optim.lr_scheduler.StepLR(optimizer, step_size=15, gamma=0.1)\n",
    "criterion = nn.CrossEntropyLoss()\n",
    "num_epochs = 5\n",
    "print(f\"Optimizer: Adam (lr={0.01})\")\n",
    "print(f\"Scheduler: StepLR (step_size=15, gamma=0.1)\")\n",
    "print(f\"Loss Function: CrossEntropyLoss\")\n",
    "print(f\"Batch Size: {batch_size}\")\n",
    "print(f\"Number of Epochs: {num_epochs}\")\n",
    "print(\"=\"*60)\n",
    "\n",
    "# Initialize tracking for goals\n",
    "goal_achieved = False\n",
    "goal_epoch = -1\n",
    "\n",
    "print(\"\\n🚀 STARTING TRAINING\")\n",
    "print(\"=\"*60)\n",
    "\n",
    "for epoch in range(1, num_epochs+1):\n",
    "    print(f\"\\n{'='*60}\")\n",
    "    print(f\"EPOCH {epoch}/{num_epochs}\")\n",
    "    print(f\"{'='*60}\")\n",
    "    \n",
    "    # Train\n",
    "    train_acc_epoch, train_loss_epoch = train(model, device, train_loader, optimizer, criterion, epoch)\n",
    "    \n",
    "    # Test\n",
    "    test_acc_epoch, test_loss_epoch = test(model, device, test_loader, criterion, epoch)\n",
    "    \n",
    "    # Check if goal is achieved\n",
    "    if epoch == EPOCH_GOAL and test_acc_epoch >= ACCURACY_GOAL:\n",
    "        goal_achieved = True\n",
    "        goal_epoch = epoch\n",
    "        print(f\"\\n🎉 SUCCESS! Goal achieved in epoch {epoch}!\")\n",
    "        print(f\"   Test Accuracy: {test_acc_epoch:.2f}% >= {ACCURACY_GOAL}%\")\n",
    "    elif epoch == EPOCH_GOAL and test_acc_epoch < ACCURACY_GOAL:\n",
    "        print(f\"\\n⚠️ Goal not achieved in epoch {epoch}\")\n",
    "        print(f\"   Test Accuracy: {test_acc_epoch:.2f}% < {ACCURACY_GOAL}%\")\n",
    "        print(f\"   Shortfall: {ACCURACY_GOAL - test_acc_epoch:.2f}%\")\n",
    "    \n",
    "    # Learning rate scheduling\n",
    "    scheduler.step()\n",
    "    current_lr = optimizer.param_groups[0]['lr']\n",
    "    print(f\"\\n📉 Learning Rate: {current_lr:.6f}\")\n",
    "\n",
    "print(\"\\n\" + \"=\"*60)\n",
    "print(\"🏁 TRAINING COMPLETE\")\n",
    "print(\"=\"*60)"
   ]
  },
  {
   "cell_type": "markdown",
   "metadata": {
    "id": "B-LM-Z1k6FcF"
   },
   "source": [
    "CODE BLOCK: 11"
   ]
  },
  {
   "cell_type": "code",
   "execution_count": 30,
   "metadata": {},
   "outputs": [
    {
     "name": "stdout",
     "output_type": "stream",
     "text": [
      "============================================================\n",
      "📊 FINAL RESULTS SUMMARY\n",
      "============================================================\n",
      "\n",
      "🎯 GOAL ACHIEVEMENT STATUS:\n",
      "----------------------------------------\n",
      "Parameter Goal (<25,000): ✅ PASSED\n",
      "  → Model Parameters: 9,190\n",
      "  → Under by: 15,810\n",
      "\n",
      "Accuracy Goal (≥95.0% in 1 epoch): ✅ PASSED\n",
      "  → First Epoch Test Accuracy: 97.87%\n",
      "  → Exceeded by: 2.87%\n",
      "\n",
      "🏆 BEST PERFORMANCE:\n",
      "----------------------------------------\n",
      "Best Test Accuracy: 98.90% (Epoch 5)\n",
      "Best Train Accuracy: 97.08%\n",
      "Lowest Test Loss: 0.0003\n",
      "Lowest Train Loss: 0.0933\n",
      "\n",
      "============================================================\n",
      "🎉 OVERALL STATUS: ALL GOALS ACHIEVED! 🎉\n",
      "============================================================\n"
     ]
    }
   ],
   "source": [
    "# Final Results Summary\n",
    "print(\"=\"*60)\n",
    "print(\"📊 FINAL RESULTS SUMMARY\")\n",
    "print(\"=\"*60)\n",
    "\n",
    "# Goal Achievement Status\n",
    "print(\"\\n🎯 GOAL ACHIEVEMENT STATUS:\")\n",
    "print(\"-\"*40)\n",
    "print(f\"Parameter Goal (<{PARAM_GOAL:,}): {'✅ PASSED' if total_params < PARAM_GOAL else '❌ FAILED'}\")\n",
    "print(f\"  → Model Parameters: {total_params:,}\")\n",
    "print(f\"  → {'Under' if total_params < PARAM_GOAL else 'Over'} by: {abs(PARAM_GOAL - total_params):,}\")\n",
    "\n",
    "first_epoch_test_acc = test_acc[0] if len(test_acc) > 0 else 0\n",
    "print(f\"\\nAccuracy Goal (≥{ACCURACY_GOAL}% in 1 epoch): {'✅ PASSED' if first_epoch_test_acc >= ACCURACY_GOAL else '❌ FAILED'}\")\n",
    "print(f\"  → First Epoch Test Accuracy: {first_epoch_test_acc:.2f}%\")\n",
    "print(f\"  → {'Exceeded' if first_epoch_test_acc >= ACCURACY_GOAL else 'Missed'} by: {abs(first_epoch_test_acc - ACCURACY_GOAL):.2f}%\")\n",
    "\n",
    "# Best Performance\n",
    "if len(test_acc) > 0:\n",
    "    best_test_acc = max(test_acc)\n",
    "    best_epoch = test_acc.index(best_test_acc) + 1\n",
    "    print(f\"\\n🏆 BEST PERFORMANCE:\")\n",
    "    print(\"-\"*40)\n",
    "    print(f\"Best Test Accuracy: {best_test_acc:.2f}% (Epoch {best_epoch})\")\n",
    "    print(f\"Best Train Accuracy: {max(train_acc):.2f}%\")\n",
    "    print(f\"Lowest Test Loss: {min(test_losses):.4f}\")\n",
    "    print(f\"Lowest Train Loss: {min(train_losses):.4f}\")\n",
    "\n",
    "# Overall Status\n",
    "print(\"\\n\" + \"=\"*60)\n",
    "if total_params < PARAM_GOAL and first_epoch_test_acc >= ACCURACY_GOAL:\n",
    "    print(\"🎉 OVERALL STATUS: ALL GOALS ACHIEVED! 🎉\")\n",
    "else:\n",
    "    print(\"⚠️ OVERALL STATUS: GOALS NOT MET\")\n",
    "    print(\"\\nRecommendations:\")\n",
    "    if total_params >= PARAM_GOAL:\n",
    "        print(\"  • Reduce model complexity (fewer filters/layers)\")\n",
    "        print(\"  • Consider using depthwise separable convolutions\")\n",
    "    if first_epoch_test_acc < ACCURACY_GOAL:\n",
    "        print(\"  • Increase learning rate for faster convergence\")\n",
    "        print(\"  • Adjust data augmentation strategies\")\n",
    "        print(\"  • Consider different optimizer (SGD with momentum)\")\n",
    "print(\"=\"*60)"
   ]
  },
  {
   "cell_type": "code",
   "execution_count": 31,
   "metadata": {
    "colab": {
     "base_uri": "https://localhost:8080/",
     "height": 870
    },
    "id": "Wu0l7dli4eC9",
    "outputId": "afee2a87-cf34-4e0d-e31d-4adb4e50af48"
   },
   "outputs": [
    {
     "data": {
      "text/plain": [
       "Text(0.5, 1.0, 'Test Accuracy')"
      ]
     },
     "execution_count": 31,
     "metadata": {},
     "output_type": "execute_result"
    },
    {
     "data": {
      "image/png": "[encoded data removed]",
      "text/plain": [
       "<Figure size 1500x1000 with 4 Axes>"
      ]
     },
     "metadata": {},
     "output_type": "display_data"
    }
   ],
   "source": [
    "fig, axs = plt.subplots(2,2,figsize=(15,10))\n",
    "axs[0, 0].plot(train_losses)\n",
    "axs[0, 0].set_title(\"Training Loss\")\n",
    "axs[1, 0].plot(train_acc)\n",
    "axs[1, 0].set_title(\"Training Accuracy\")\n",
    "axs[0, 1].plot(test_losses)\n",
    "axs[0, 1].set_title(\"Test Loss\")\n",
    "axs[1, 1].plot(test_acc)\n",
    "axs[1, 1].set_title(\"Test Accuracy\")"
   ]
  },
  {
   "cell_type": "code",
   "execution_count": 32,
   "metadata": {
    "id": "C8WZPfXe4iK_"
   },
   "outputs": [
    {
     "name": "stdout",
     "output_type": "stream",
     "text": [
      "Requirement already satisfied: torchsummary in c:\\users\\abishek satnur\\desktop\\era_v4\\session_4\\.venv\\lib\\site-packages (1.5.1)\n",
      "----------------------------------------------------------------\n",
      "        Layer (type)               Output Shape         Param #\n",
      "================================================================\n",
      "            Conv2d-1           [-1, 10, 26, 26]             100\n",
      "       BatchNorm2d-2           [-1, 10, 26, 26]              20\n",
      "            Conv2d-3           [-1, 20, 24, 24]           1,820\n",
      "       BatchNorm2d-4           [-1, 20, 24, 24]              40\n",
      "         MaxPool2d-5           [-1, 20, 12, 12]               0\n",
      "         MaxPool2d-6             [-1, 20, 6, 6]               0\n",
      "         Dropout2d-7             [-1, 20, 6, 6]               0\n",
      "            Linear-8                   [-1, 10]           7,210\n",
      "================================================================\n",
      "Total params: 9,190\n",
      "Trainable params: 9,190\n",
      "Non-trainable params: 0\n",
      "----------------------------------------------------------------\n",
      "Input size (MB): 0.00\n",
      "Forward/backward pass size (MB): 0.31\n",
      "Params size (MB): 0.04\n",
      "Estimated Total Size (MB): 0.35\n",
      "----------------------------------------------------------------\n"
     ]
    }
   ],
   "source": [
    "!pip install torchsummary\n",
    "from torchsummary import summary\n",
    "use_cuda = torch.cuda.is_available()\n",
    "device = torch.device(\"cuda\" if use_cuda else \"cpu\")\n",
    "model = Net().to(device)\n",
    "summary(model, input_size=(1, 28, 28))"
   ]
  }
 ],
 "metadata": {
  "accelerator": "GPU",
  "colab": {
   "gpuType": "T4",
   "provenance": []
  },
  "gpuClass": "standard",
  "kernelspec": {
   "display_name": ".venv",
   "language": "python",
   "name": "python3"
  },
  "language_info": {
   "codemirror_mode": {
    "name": "ipython",
    "version": 3
   },
   "file_extension": ".py",
   "mimetype": "text/x-python",
   "name": "python",
   "nbconvert_exporter": "python",
   "pygments_lexer": "ipython3",
   "version": "3.12.3"
  }
 },
 "nbformat": 4,
 "nbformat_minor": 0
}
